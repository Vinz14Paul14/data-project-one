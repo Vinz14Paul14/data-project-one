{
 "cells": [
  {
   "cell_type": "markdown",
   "metadata": {},
   "source": [
    "# Hypothesis 1: We expect that there will be more 311 cases during the middle of the week.\n",
    "\n",
    "by Paul Pineda\n"
   ]
  },
  {
   "cell_type": "code",
   "execution_count": 1,
   "metadata": {},
   "outputs": [],
   "source": [
    "#dependencies\n",
    "import numpy as np\n",
    "import pandas as pd\n",
    "import csv\n",
    "import matplotlib.pyplot as plt\n",
    "import requests\n",
    "from census import Census\n",
    "from us import states\n",
    "from pprint import pprint\n",
    "import datetime\n",
    "import gmaps\n",
    "import scipy.stats as stats\n",
    "from scipy.stats import linregress\n",
    "from numpy.random import rand\n",
    "import matplotlib.cm as cm\n"
   ]
  },
  {
   "cell_type": "code",
   "execution_count": 2,
   "metadata": {},
   "outputs": [
    {
     "data": {
      "text/html": [
       "<div>\n",
       "<style scoped>\n",
       "    .dataframe tbody tr th:only-of-type {\n",
       "        vertical-align: middle;\n",
       "    }\n",
       "\n",
       "    .dataframe tbody tr th {\n",
       "        vertical-align: top;\n",
       "    }\n",
       "\n",
       "    .dataframe thead th {\n",
       "        text-align: right;\n",
       "    }\n",
       "</style>\n",
       "<table border=\"1\" class=\"dataframe\">\n",
       "  <thead>\n",
       "    <tr style=\"text-align: right;\">\n",
       "      <th></th>\n",
       "      <th>Unnamed: 0</th>\n",
       "      <th>CaseID</th>\n",
       "      <th>Opened</th>\n",
       "      <th>Category</th>\n",
       "      <th>Request Type</th>\n",
       "      <th>Neighborhood</th>\n",
       "      <th>Latitude</th>\n",
       "      <th>Longitude</th>\n",
       "      <th>Source</th>\n",
       "      <th>Media URL</th>\n",
       "      <th>Opened Date</th>\n",
       "      <th>Opened Year</th>\n",
       "      <th>Zipcode</th>\n",
       "      <th>Population</th>\n",
       "      <th>Median Age</th>\n",
       "      <th>Household Income</th>\n",
       "      <th>Per Capita Income</th>\n",
       "      <th>Poverty Count</th>\n",
       "      <th>Poverty Rate</th>\n",
       "    </tr>\n",
       "  </thead>\n",
       "  <tbody>\n",
       "    <tr>\n",
       "      <th>0</th>\n",
       "      <td>0</td>\n",
       "      <td>10395976</td>\n",
       "      <td>01/23/2019 01:34:53 PM</td>\n",
       "      <td>Sign Repair</td>\n",
       "      <td>Sign - Missing</td>\n",
       "      <td>Mission</td>\n",
       "      <td>37.764091</td>\n",
       "      <td>-122.413002</td>\n",
       "      <td>Web</td>\n",
       "      <td>NaN</td>\n",
       "      <td>01/23/2019</td>\n",
       "      <td>2019</td>\n",
       "      <td>94110</td>\n",
       "      <td>73737.0</td>\n",
       "      <td>36.6</td>\n",
       "      <td>109747.0</td>\n",
       "      <td>59660.0</td>\n",
       "      <td>7321.0</td>\n",
       "      <td>9.928530</td>\n",
       "    </tr>\n",
       "    <tr>\n",
       "      <th>1</th>\n",
       "      <td>1</td>\n",
       "      <td>11886797</td>\n",
       "      <td>01/01/2020 09:06:00 PM</td>\n",
       "      <td>General Request - PUBLIC WORKS</td>\n",
       "      <td>request_for_service</td>\n",
       "      <td>Mission</td>\n",
       "      <td>37.764840</td>\n",
       "      <td>-122.415038</td>\n",
       "      <td>Web</td>\n",
       "      <td>NaN</td>\n",
       "      <td>01/01/2020</td>\n",
       "      <td>2020</td>\n",
       "      <td>94110</td>\n",
       "      <td>73737.0</td>\n",
       "      <td>36.6</td>\n",
       "      <td>109747.0</td>\n",
       "      <td>59660.0</td>\n",
       "      <td>7321.0</td>\n",
       "      <td>9.928530</td>\n",
       "    </tr>\n",
       "    <tr>\n",
       "      <th>2</th>\n",
       "      <td>2</td>\n",
       "      <td>11089240</td>\n",
       "      <td>07/05/2019 03:12:37 PM</td>\n",
       "      <td>Graffiti</td>\n",
       "      <td>Graffiti on Building_other</td>\n",
       "      <td>Mission</td>\n",
       "      <td>37.755848</td>\n",
       "      <td>-122.414551</td>\n",
       "      <td>Integrated Agency</td>\n",
       "      <td>NaN</td>\n",
       "      <td>07/05/2019</td>\n",
       "      <td>2019</td>\n",
       "      <td>94110</td>\n",
       "      <td>73737.0</td>\n",
       "      <td>36.6</td>\n",
       "      <td>109747.0</td>\n",
       "      <td>59660.0</td>\n",
       "      <td>7321.0</td>\n",
       "      <td>9.928530</td>\n",
       "    </tr>\n",
       "    <tr>\n",
       "      <th>3</th>\n",
       "      <td>3</td>\n",
       "      <td>11239390</td>\n",
       "      <td>08/07/2019 01:25:51 PM</td>\n",
       "      <td>Graffiti</td>\n",
       "      <td>Graffiti on Building_other</td>\n",
       "      <td>Mission</td>\n",
       "      <td>37.755703</td>\n",
       "      <td>-122.416397</td>\n",
       "      <td>Integrated Agency</td>\n",
       "      <td>NaN</td>\n",
       "      <td>08/07/2019</td>\n",
       "      <td>2019</td>\n",
       "      <td>94110</td>\n",
       "      <td>73737.0</td>\n",
       "      <td>36.6</td>\n",
       "      <td>109747.0</td>\n",
       "      <td>59660.0</td>\n",
       "      <td>7321.0</td>\n",
       "      <td>9.928530</td>\n",
       "    </tr>\n",
       "    <tr>\n",
       "      <th>4</th>\n",
       "      <td>4</td>\n",
       "      <td>11886078</td>\n",
       "      <td>01/01/2020 03:27:00 PM</td>\n",
       "      <td>Street and Sidewalk Cleaning</td>\n",
       "      <td>General Cleaning</td>\n",
       "      <td>Mission</td>\n",
       "      <td>37.769532</td>\n",
       "      <td>-122.415847</td>\n",
       "      <td>Mobile/Open311</td>\n",
       "      <td>http://mobile311.sfgov.org/reports/11886078/ph...</td>\n",
       "      <td>01/01/2020</td>\n",
       "      <td>2020</td>\n",
       "      <td>94110</td>\n",
       "      <td>73737.0</td>\n",
       "      <td>36.6</td>\n",
       "      <td>109747.0</td>\n",
       "      <td>59660.0</td>\n",
       "      <td>7321.0</td>\n",
       "      <td>9.928530</td>\n",
       "    </tr>\n",
       "    <tr>\n",
       "      <th>...</th>\n",
       "      <td>...</td>\n",
       "      <td>...</td>\n",
       "      <td>...</td>\n",
       "      <td>...</td>\n",
       "      <td>...</td>\n",
       "      <td>...</td>\n",
       "      <td>...</td>\n",
       "      <td>...</td>\n",
       "      <td>...</td>\n",
       "      <td>...</td>\n",
       "      <td>...</td>\n",
       "      <td>...</td>\n",
       "      <td>...</td>\n",
       "      <td>...</td>\n",
       "      <td>...</td>\n",
       "      <td>...</td>\n",
       "      <td>...</td>\n",
       "      <td>...</td>\n",
       "      <td>...</td>\n",
       "    </tr>\n",
       "    <tr>\n",
       "      <th>1873838</th>\n",
       "      <td>1873838</td>\n",
       "      <td>11445821</td>\n",
       "      <td>09/21/2019 08:53:04 AM</td>\n",
       "      <td>Encampments</td>\n",
       "      <td>Encampment Reports</td>\n",
       "      <td>Presidio National Park</td>\n",
       "      <td>37.806462</td>\n",
       "      <td>-122.450988</td>\n",
       "      <td>Mobile/Open311</td>\n",
       "      <td>http://mobile311.sfgov.org/reports/11445821/ph...</td>\n",
       "      <td>09/21/2019</td>\n",
       "      <td>2019</td>\n",
       "      <td>94129</td>\n",
       "      <td>4019.0</td>\n",
       "      <td>29.4</td>\n",
       "      <td>190167.0</td>\n",
       "      <td>81974.0</td>\n",
       "      <td>122.0</td>\n",
       "      <td>3.035581</td>\n",
       "    </tr>\n",
       "    <tr>\n",
       "      <th>1873839</th>\n",
       "      <td>1873839</td>\n",
       "      <td>11451330</td>\n",
       "      <td>09/22/2019 06:16:00 PM</td>\n",
       "      <td>Street Defects</td>\n",
       "      <td>Pavement_Defect</td>\n",
       "      <td>Presidio National Park</td>\n",
       "      <td>37.804123</td>\n",
       "      <td>-122.472125</td>\n",
       "      <td>Mobile/Open311</td>\n",
       "      <td>NaN</td>\n",
       "      <td>09/22/2019</td>\n",
       "      <td>2019</td>\n",
       "      <td>94129</td>\n",
       "      <td>4019.0</td>\n",
       "      <td>29.4</td>\n",
       "      <td>190167.0</td>\n",
       "      <td>81974.0</td>\n",
       "      <td>122.0</td>\n",
       "      <td>3.035581</td>\n",
       "    </tr>\n",
       "    <tr>\n",
       "      <th>1873840</th>\n",
       "      <td>1873840</td>\n",
       "      <td>11416625</td>\n",
       "      <td>09/14/2019 05:20:44 PM</td>\n",
       "      <td>Parking Enforcement</td>\n",
       "      <td>Blocking_Bicycle_Lane</td>\n",
       "      <td>Presidio National Park</td>\n",
       "      <td>37.801830</td>\n",
       "      <td>-122.456973</td>\n",
       "      <td>Mobile/Open311</td>\n",
       "      <td>http://mobile311.sfgov.org/reports/11416625/ph...</td>\n",
       "      <td>09/14/2019</td>\n",
       "      <td>2019</td>\n",
       "      <td>94129</td>\n",
       "      <td>4019.0</td>\n",
       "      <td>29.4</td>\n",
       "      <td>190167.0</td>\n",
       "      <td>81974.0</td>\n",
       "      <td>122.0</td>\n",
       "      <td>3.035581</td>\n",
       "    </tr>\n",
       "    <tr>\n",
       "      <th>1873841</th>\n",
       "      <td>1873841</td>\n",
       "      <td>11444928</td>\n",
       "      <td>09/20/2019 07:55:37 PM</td>\n",
       "      <td>Noise Report</td>\n",
       "      <td>Noise Issue</td>\n",
       "      <td>Presidio National Park</td>\n",
       "      <td>37.808779</td>\n",
       "      <td>-122.471963</td>\n",
       "      <td>Mobile/Open311</td>\n",
       "      <td>NaN</td>\n",
       "      <td>09/20/2019</td>\n",
       "      <td>2019</td>\n",
       "      <td>94129</td>\n",
       "      <td>4019.0</td>\n",
       "      <td>29.4</td>\n",
       "      <td>190167.0</td>\n",
       "      <td>81974.0</td>\n",
       "      <td>122.0</td>\n",
       "      <td>3.035581</td>\n",
       "    </tr>\n",
       "    <tr>\n",
       "      <th>1873842</th>\n",
       "      <td>1873842</td>\n",
       "      <td>11447775</td>\n",
       "      <td>09/21/2019 05:10:00 PM</td>\n",
       "      <td>Sign Repair</td>\n",
       "      <td>Sign Repair - Missing</td>\n",
       "      <td>Presidio National Park</td>\n",
       "      <td>37.808099</td>\n",
       "      <td>-122.470892</td>\n",
       "      <td>Mobile/Open311</td>\n",
       "      <td>NaN</td>\n",
       "      <td>09/21/2019</td>\n",
       "      <td>2019</td>\n",
       "      <td>94129</td>\n",
       "      <td>4019.0</td>\n",
       "      <td>29.4</td>\n",
       "      <td>190167.0</td>\n",
       "      <td>81974.0</td>\n",
       "      <td>122.0</td>\n",
       "      <td>3.035581</td>\n",
       "    </tr>\n",
       "  </tbody>\n",
       "</table>\n",
       "<p>1873843 rows × 19 columns</p>\n",
       "</div>"
      ],
      "text/plain": [
       "         Unnamed: 0    CaseID                  Opened  \\\n",
       "0                 0  10395976  01/23/2019 01:34:53 PM   \n",
       "1                 1  11886797  01/01/2020 09:06:00 PM   \n",
       "2                 2  11089240  07/05/2019 03:12:37 PM   \n",
       "3                 3  11239390  08/07/2019 01:25:51 PM   \n",
       "4                 4  11886078  01/01/2020 03:27:00 PM   \n",
       "...             ...       ...                     ...   \n",
       "1873838     1873838  11445821  09/21/2019 08:53:04 AM   \n",
       "1873839     1873839  11451330  09/22/2019 06:16:00 PM   \n",
       "1873840     1873840  11416625  09/14/2019 05:20:44 PM   \n",
       "1873841     1873841  11444928  09/20/2019 07:55:37 PM   \n",
       "1873842     1873842  11447775  09/21/2019 05:10:00 PM   \n",
       "\n",
       "                               Category                Request Type  \\\n",
       "0                           Sign Repair              Sign - Missing   \n",
       "1        General Request - PUBLIC WORKS         request_for_service   \n",
       "2                              Graffiti  Graffiti on Building_other   \n",
       "3                              Graffiti  Graffiti on Building_other   \n",
       "4          Street and Sidewalk Cleaning            General Cleaning   \n",
       "...                                 ...                         ...   \n",
       "1873838                     Encampments          Encampment Reports   \n",
       "1873839                  Street Defects             Pavement_Defect   \n",
       "1873840             Parking Enforcement       Blocking_Bicycle_Lane   \n",
       "1873841                    Noise Report                 Noise Issue   \n",
       "1873842                     Sign Repair       Sign Repair - Missing   \n",
       "\n",
       "                   Neighborhood   Latitude   Longitude             Source  \\\n",
       "0                       Mission  37.764091 -122.413002                Web   \n",
       "1                       Mission  37.764840 -122.415038                Web   \n",
       "2                       Mission  37.755848 -122.414551  Integrated Agency   \n",
       "3                       Mission  37.755703 -122.416397  Integrated Agency   \n",
       "4                       Mission  37.769532 -122.415847     Mobile/Open311   \n",
       "...                         ...        ...         ...                ...   \n",
       "1873838  Presidio National Park  37.806462 -122.450988     Mobile/Open311   \n",
       "1873839  Presidio National Park  37.804123 -122.472125     Mobile/Open311   \n",
       "1873840  Presidio National Park  37.801830 -122.456973     Mobile/Open311   \n",
       "1873841  Presidio National Park  37.808779 -122.471963     Mobile/Open311   \n",
       "1873842  Presidio National Park  37.808099 -122.470892     Mobile/Open311   \n",
       "\n",
       "                                                 Media URL Opened Date  \\\n",
       "0                                                      NaN  01/23/2019   \n",
       "1                                                      NaN  01/01/2020   \n",
       "2                                                      NaN  07/05/2019   \n",
       "3                                                      NaN  08/07/2019   \n",
       "4        http://mobile311.sfgov.org/reports/11886078/ph...  01/01/2020   \n",
       "...                                                    ...         ...   \n",
       "1873838  http://mobile311.sfgov.org/reports/11445821/ph...  09/21/2019   \n",
       "1873839                                                NaN  09/22/2019   \n",
       "1873840  http://mobile311.sfgov.org/reports/11416625/ph...  09/14/2019   \n",
       "1873841                                                NaN  09/20/2019   \n",
       "1873842                                                NaN  09/21/2019   \n",
       "\n",
       "         Opened Year  Zipcode  Population  Median Age  Household Income  \\\n",
       "0               2019    94110     73737.0        36.6          109747.0   \n",
       "1               2020    94110     73737.0        36.6          109747.0   \n",
       "2               2019    94110     73737.0        36.6          109747.0   \n",
       "3               2019    94110     73737.0        36.6          109747.0   \n",
       "4               2020    94110     73737.0        36.6          109747.0   \n",
       "...              ...      ...         ...         ...               ...   \n",
       "1873838         2019    94129      4019.0        29.4          190167.0   \n",
       "1873839         2019    94129      4019.0        29.4          190167.0   \n",
       "1873840         2019    94129      4019.0        29.4          190167.0   \n",
       "1873841         2019    94129      4019.0        29.4          190167.0   \n",
       "1873842         2019    94129      4019.0        29.4          190167.0   \n",
       "\n",
       "         Per Capita Income  Poverty Count  Poverty Rate  \n",
       "0                  59660.0         7321.0      9.928530  \n",
       "1                  59660.0         7321.0      9.928530  \n",
       "2                  59660.0         7321.0      9.928530  \n",
       "3                  59660.0         7321.0      9.928530  \n",
       "4                  59660.0         7321.0      9.928530  \n",
       "...                    ...            ...           ...  \n",
       "1873838            81974.0          122.0      3.035581  \n",
       "1873839            81974.0          122.0      3.035581  \n",
       "1873840            81974.0          122.0      3.035581  \n",
       "1873841            81974.0          122.0      3.035581  \n",
       "1873842            81974.0          122.0      3.035581  \n",
       "\n",
       "[1873843 rows x 19 columns]"
      ]
     },
     "execution_count": 2,
     "metadata": {},
     "output_type": "execute_result"
    }
   ],
   "source": [
    "final_df = pd.read_csv('final_df corrected.csv')\n",
    "final_df"
   ]
  },
  {
   "cell_type": "markdown",
   "metadata": {},
   "source": [
    "### Converted \"Opened\" date column to display \"Day of week\" and stored data to new Column"
   ]
  },
  {
   "cell_type": "code",
   "execution_count": 3,
   "metadata": {},
   "outputs": [],
   "source": [
    "opened_date = '01/11/2017'\n",
    "date_of_week = datetime.datetime.strptime(opened_date,'%m/%d/%Y' ).strftime(\"%A\");\n",
    "date_of_week\n",
    "\n",
    "\n",
    "def convert_to_day_of_week(str_date):\n",
    "    return datetime.datetime.strptime(str_date,'%m/%d/%Y' ).strftime(\"%A\");"
   ]
  },
  {
   "cell_type": "code",
   "execution_count": 4,
   "metadata": {},
   "outputs": [],
   "source": [
    "final_df[\"Day of the Week\"] = final_df[\"Opened Date\"].apply(convert_to_day_of_week)\n",
    "final_df\n",
    "\n",
    "final_df.to_csv('Final DataFrame.csv')"
   ]
  },
  {
   "cell_type": "markdown",
   "metadata": {},
   "source": [
    "## 311 case count per Day of Week"
   ]
  },
  {
   "cell_type": "code",
   "execution_count": 5,
   "metadata": {
    "scrolled": true
   },
   "outputs": [],
   "source": [
    "day_week = final_df[\"Day of the Week\"].value_counts()\n",
    "day_week\n",
    "\n",
    "day_week_df = pd.DataFrame(day_week)\n",
    "# day_week_df"
   ]
  },
  {
   "cell_type": "code",
   "execution_count": 27,
   "metadata": {},
   "outputs": [
    {
     "data": {
      "text/html": [
       "<div>\n",
       "<style scoped>\n",
       "    .dataframe tbody tr th:only-of-type {\n",
       "        vertical-align: middle;\n",
       "    }\n",
       "\n",
       "    .dataframe tbody tr th {\n",
       "        vertical-align: top;\n",
       "    }\n",
       "\n",
       "    .dataframe thead th {\n",
       "        text-align: right;\n",
       "    }\n",
       "</style>\n",
       "<table border=\"1\" class=\"dataframe\">\n",
       "  <thead>\n",
       "    <tr style=\"text-align: right;\">\n",
       "      <th></th>\n",
       "      <th>observed</th>\n",
       "      <th>expected</th>\n",
       "    </tr>\n",
       "  </thead>\n",
       "  <tbody>\n",
       "    <tr>\n",
       "      <th>Monday</th>\n",
       "      <td>302602</td>\n",
       "      <td>267691.86</td>\n",
       "    </tr>\n",
       "    <tr>\n",
       "      <th>Tuesday</th>\n",
       "      <td>301241</td>\n",
       "      <td>267691.86</td>\n",
       "    </tr>\n",
       "    <tr>\n",
       "      <th>Wednesday</th>\n",
       "      <td>293854</td>\n",
       "      <td>267691.86</td>\n",
       "    </tr>\n",
       "    <tr>\n",
       "      <th>Thursday</th>\n",
       "      <td>285868</td>\n",
       "      <td>267691.86</td>\n",
       "    </tr>\n",
       "    <tr>\n",
       "      <th>Friday</th>\n",
       "      <td>268014</td>\n",
       "      <td>267691.86</td>\n",
       "    </tr>\n",
       "    <tr>\n",
       "      <th>Saturday</th>\n",
       "      <td>214967</td>\n",
       "      <td>267691.86</td>\n",
       "    </tr>\n",
       "    <tr>\n",
       "      <th>Sunday</th>\n",
       "      <td>207297</td>\n",
       "      <td>267691.86</td>\n",
       "    </tr>\n",
       "  </tbody>\n",
       "</table>\n",
       "</div>"
      ],
      "text/plain": [
       "           observed   expected\n",
       "Monday       302602  267691.86\n",
       "Tuesday      301241  267691.86\n",
       "Wednesday    293854  267691.86\n",
       "Thursday     285868  267691.86\n",
       "Friday       268014  267691.86\n",
       "Saturday     214967  267691.86\n",
       "Sunday       207297  267691.86"
      ]
     },
     "execution_count": 27,
     "metadata": {},
     "output_type": "execute_result"
    }
   ],
   "source": [
    "observed = pd.Series([302602, 301241, 293854, 285868, 268014, 214967, 207297], index=[\"Monday\", \"Tuesday\", \"Wednesday\", \"Thursday\", \"Friday\", \"Saturday\", \"Sunday\"])\n",
    "\n",
    "# Create a data frame\n",
    "testing_df = pd.DataFrame([observed]).T\n",
    "\n",
    "# Add a column whose default values are the expected values\n",
    "testing_df[1] = 267691.86\n",
    "\n",
    "# Rename the columns\n",
    "testing_df.columns = [\"observed\", \"expected\"]\n",
    "\n",
    "# View the data frame\n",
    "testing_df"
   ]
  },
  {
   "cell_type": "code",
   "execution_count": 28,
   "metadata": {},
   "outputs": [],
   "source": [
    "dow = [\"Monday\", \"Tuesday\", \"Wednesday\", \"Thursday\", \"Friday\", \"Saturday\", \"Sunday\"]\n",
    "day_count = testing_df[\"observed\"]\n",
    "day_count\n",
    "x_axis = np.arange(len(dow))"
   ]
  },
  {
   "cell_type": "code",
   "execution_count": 29,
   "metadata": {},
   "outputs": [
    {
     "data": {
      "image/png": "[encoded data removed]",
      "text/plain": [
       "<Figure size 432x288 with 1 Axes>"
      ]
     },
     "metadata": {
      "needs_background": "light"
     },
     "output_type": "display_data"
    }
   ],
   "source": [
    "plt.bar(dow, day_count, color=(('#F2E30F', '#0FF28C', '#0F93F2', '#F20F29', '#7950C7', '#6BC750', '#C79150')), \n",
    "                                align=\"center\", width = 0.7, edgecolor = 'black', linewidth = 1)\n",
    "tick_locations = [value for value in dow]\n",
    "plt.xticks(tick_locations, dow, rotation=70)\n",
    "plt.xlim(-0.75, len(x_axis)-0.25)\n",
    "plt.ylim(0, max(day_count)+18000)\n",
    "plt.title(\"311 Requests Per Day of Week\")\n",
    "plt.xlabel(\"Day of the Week\")\n",
    "plt.ylabel(\"311 Request Count\")\n",
    "plt.show()"
   ]
  },
  {
   "cell_type": "markdown",
   "metadata": {},
   "source": [
    "## Statistics - Information"
   ]
  },
  {
   "cell_type": "code",
   "execution_count": 30,
   "metadata": {},
   "outputs": [
    {
     "data": {
      "text/plain": [
       "12.591587243743977"
      ]
     },
     "execution_count": 30,
     "metadata": {},
     "output_type": "execute_result"
    }
   ],
   "source": [
    "critical_value = stats.chi2.ppf(q = 0.95, df = 6)\n",
    "critical_value"
   ]
  },
  {
   "cell_type": "code",
   "execution_count": 31,
   "metadata": {},
   "outputs": [
    {
     "data": {
      "text/plain": [
       "Power_divergenceResult(statistic=36559.37111743779, pvalue=0.0)"
      ]
     },
     "execution_count": 31,
     "metadata": {},
     "output_type": "execute_result"
    }
   ],
   "source": [
    "stats.chisquare(testing_df['observed'], testing_df['expected'])"
   ]
  },
  {
   "cell_type": "code",
   "execution_count": 32,
   "metadata": {},
   "outputs": [
    {
     "data": {
      "text/plain": [
       "Day of the Week    267691.857143\n",
       "dtype: float64"
      ]
     },
     "execution_count": 32,
     "metadata": {},
     "output_type": "execute_result"
    }
   ],
   "source": [
    "mean = np.mean(day_week_df)\n",
    "mean"
   ]
  },
  {
   "cell_type": "code",
   "execution_count": 33,
   "metadata": {},
   "outputs": [
    {
     "data": {
      "text/plain": [
       "267691.85714285716"
      ]
     },
     "execution_count": 33,
     "metadata": {},
     "output_type": "execute_result"
    }
   ],
   "source": [
    "mean = np.mean(day_week)\n",
    "mean"
   ]
  },
  {
   "cell_type": "code",
   "execution_count": 34,
   "metadata": {},
   "outputs": [
    {
     "data": {
      "text/plain": [
       "285868.0"
      ]
     },
     "execution_count": 34,
     "metadata": {},
     "output_type": "execute_result"
    }
   ],
   "source": [
    "median = np.median(day_week)\n",
    "median"
   ]
  },
  {
   "cell_type": "code",
   "execution_count": 35,
   "metadata": {},
   "outputs": [
    {
     "data": {
      "text/plain": [
       "ModeResult(mode=array([[207297]]), count=array([[1]]))"
      ]
     },
     "execution_count": 35,
     "metadata": {},
     "output_type": "execute_result"
    }
   ],
   "source": [
    "mode = stats.mode(day_week_df)\n",
    "mode"
   ]
  },
  {
   "cell_type": "markdown",
   "metadata": {},
   "source": [
    "## Type of Sources used to make 311 Calls"
   ]
  },
  {
   "cell_type": "code",
   "execution_count": 36,
   "metadata": {},
   "outputs": [
    {
     "data": {
      "text/plain": [
       "Mobile/Open311       1034430\n",
       "Phone                 549058\n",
       "Web                   229337\n",
       "Integrated Agency      51156\n",
       "Twitter                 9363\n",
       "Other Department         491\n",
       "Email                      8\n",
       "Name: Source, dtype: int64"
      ]
     },
     "execution_count": 36,
     "metadata": {},
     "output_type": "execute_result"
    }
   ],
   "source": [
    "source_counts = final_df['Source'].value_counts()\n",
    "source_counts"
   ]
  },
  {
   "cell_type": "code",
   "execution_count": 37,
   "metadata": {},
   "outputs": [
    {
     "data": {
      "text/plain": [
       "51655"
      ]
     },
     "execution_count": 37,
     "metadata": {},
     "output_type": "execute_result"
    }
   ],
   "source": [
    "Other = final_df.loc[(final_df[\"Source\"] == \"Email\") | (final_df[\"Source\"] == \"Integrated Agency\") | (final_df[\"Source\"] == \"Other Department\")]\n",
    "other_source_num = len(Other[\"Source\"])\n",
    "other_source_num "
   ]
  },
  {
   "cell_type": "code",
   "execution_count": 38,
   "metadata": {},
   "outputs": [
    {
     "data": {
      "text/plain": [
       "1034430"
      ]
     },
     "execution_count": 38,
     "metadata": {},
     "output_type": "execute_result"
    }
   ],
   "source": [
    "Mobile_App = final_df.loc[final_df[\"Source\"] == \"Mobile/Open311\"]\n",
    "mobile_num = len(Mobile_App[\"Source\"])\n",
    "mobile_num"
   ]
  },
  {
   "cell_type": "code",
   "execution_count": 39,
   "metadata": {},
   "outputs": [
    {
     "data": {
      "text/plain": [
       "549058"
      ]
     },
     "execution_count": 39,
     "metadata": {},
     "output_type": "execute_result"
    }
   ],
   "source": [
    "Phone = final_df.loc[final_df[\"Source\"] == \"Phone\"]\n",
    "phone_num = len(Phone[\"Source\"])\n",
    "phone_num"
   ]
  },
  {
   "cell_type": "code",
   "execution_count": 40,
   "metadata": {},
   "outputs": [
    {
     "data": {
      "text/plain": [
       "229337"
      ]
     },
     "execution_count": 40,
     "metadata": {},
     "output_type": "execute_result"
    }
   ],
   "source": [
    "Web = final_df.loc[final_df[\"Source\"] == \"Web\"]\n",
    "web_num = len(Web[\"Source\"])\n",
    "web_num"
   ]
  },
  {
   "cell_type": "code",
   "execution_count": 41,
   "metadata": {},
   "outputs": [
    {
     "data": {
      "image/png": "[encoded data removed]",
      "text/plain": [
       "<Figure size 432x288 with 1 Axes>"
      ]
     },
     "metadata": {},
     "output_type": "display_data"
    }
   ],
   "source": [
    "Method = [\"Other\", \"Mobile App\", \"Phone\", \"Web\"]\n",
    "count_method = [other_source_num, mobile_num, phone_num, web_num]\n",
    "colors = [\"purple\",\"green\",\"yellow\",\"red\",\"blue\"]\n",
    "explode = (0,0.1,0,0)\n",
    "\n",
    "# Tell matplotlib to create a pie chart based upon the above data\n",
    "plt.pie(count_method, explode=explode, labels=Method, colors=colors,\n",
    "        autopct=\"%1.1f%%\", shadow=True, startangle=140, pctdistance=0.6)\n",
    "# Create axes which are equal so we have a perfect circle\n",
    "plt.axis(\"equal\")\n",
    "plt.title(\"311 Call Methods\")\n",
    "\n",
    "# Save an image of our chart and print the final product to the screen\n",
    "plt.savefig(\"311 Call Methods.png\")\n",
    "plt.show()"
   ]
  },
  {
   "cell_type": "markdown",
   "metadata": {},
   "source": [
    "## Number of request by Categories"
   ]
  },
  {
   "cell_type": "code",
   "execution_count": 42,
   "metadata": {},
   "outputs": [
    {
     "data": {
      "text/html": [
       "<div>\n",
       "<style scoped>\n",
       "    .dataframe tbody tr th:only-of-type {\n",
       "        vertical-align: middle;\n",
       "    }\n",
       "\n",
       "    .dataframe tbody tr th {\n",
       "        vertical-align: top;\n",
       "    }\n",
       "\n",
       "    .dataframe thead th {\n",
       "        text-align: right;\n",
       "    }\n",
       "</style>\n",
       "<table border=\"1\" class=\"dataframe\">\n",
       "  <thead>\n",
       "    <tr style=\"text-align: right;\">\n",
       "      <th></th>\n",
       "      <th>CaseID</th>\n",
       "    </tr>\n",
       "    <tr>\n",
       "      <th>Category</th>\n",
       "      <th></th>\n",
       "    </tr>\n",
       "  </thead>\n",
       "  <tbody>\n",
       "    <tr>\n",
       "      <th>Abandoned Vehicle</th>\n",
       "      <td>95957</td>\n",
       "    </tr>\n",
       "    <tr>\n",
       "      <th>Parking Enforcement</th>\n",
       "      <td>139749</td>\n",
       "    </tr>\n",
       "    <tr>\n",
       "      <th>Encampments</th>\n",
       "      <td>199987</td>\n",
       "    </tr>\n",
       "    <tr>\n",
       "      <th>Graffiti</th>\n",
       "      <td>214926</td>\n",
       "    </tr>\n",
       "    <tr>\n",
       "      <th>Street and Sidewalk Cleaning</th>\n",
       "      <td>732131</td>\n",
       "    </tr>\n",
       "  </tbody>\n",
       "</table>\n",
       "</div>"
      ],
      "text/plain": [
       "                              CaseID\n",
       "Category                            \n",
       "Abandoned Vehicle              95957\n",
       "Parking Enforcement           139749\n",
       "Encampments                   199987\n",
       "Graffiti                      214926\n",
       "Street and Sidewalk Cleaning  732131"
      ]
     },
     "execution_count": 42,
     "metadata": {},
     "output_type": "execute_result"
    }
   ],
   "source": [
    "category = final_df.groupby('Category')['CaseID'].count().sort_values().tail(5)\n",
    "category_df = pd.DataFrame(category)\n",
    "category_df"
   ]
  },
  {
   "cell_type": "code",
   "execution_count": 43,
   "metadata": {},
   "outputs": [],
   "source": [
    "cat_c = ['Abandoned Vehicle','Parking Enforcement', 'Encampments', \n",
    "                  'Graffiti', 'Street/Sidewalk Cleaning']\n",
    "cat_c\n",
    "cat_count = category_df['CaseID']\n",
    "cat_count\n",
    "x_axis = np.arange(len(cat_c))"
   ]
  },
  {
   "cell_type": "code",
   "execution_count": 44,
   "metadata": {},
   "outputs": [
    {
     "data": {
      "image/png": "[encoded data removed]",
      "text/plain": [
       "<Figure size 432x288 with 1 Axes>"
      ]
     },
     "metadata": {
      "needs_background": "light"
     },
     "output_type": "display_data"
    }
   ],
   "source": [
    "plt.bar(cat_c, cat_count, color=(('#F2E30F', '#0FF28C', '#0F93F2', '#F20F29', '#7950C7')), \n",
    "                                align=\"center\", width = 0.7, edgecolor = 'black', linewidth = 1)\n",
    "tick_locations = [value for value in cat_c]\n",
    "plt.xticks(tick_locations, cat_c, rotation=70)\n",
    "plt.xlim(-0.75, len(x_axis)-0.25)\n",
    "plt.ylim(0, max(day_count)+500000)\n",
    "plt.title(\"Number of Request by Category\")\n",
    "plt.xlabel(\"311 Call Categories\")\n",
    "plt.ylabel(\"311 Request Count\")\n",
    "plt.show()"
   ]
  },
  {
   "cell_type": "markdown",
   "metadata": {},
   "source": [
    "## Number of Request by Sub-cat"
   ]
  },
  {
   "cell_type": "code",
   "execution_count": 45,
   "metadata": {},
   "outputs": [
    {
     "data": {
      "text/html": [
       "<div>\n",
       "<style scoped>\n",
       "    .dataframe tbody tr th:only-of-type {\n",
       "        vertical-align: middle;\n",
       "    }\n",
       "\n",
       "    .dataframe tbody tr th {\n",
       "        vertical-align: top;\n",
       "    }\n",
       "\n",
       "    .dataframe thead th {\n",
       "        text-align: right;\n",
       "    }\n",
       "</style>\n",
       "<table border=\"1\" class=\"dataframe\">\n",
       "  <thead>\n",
       "    <tr style=\"text-align: right;\">\n",
       "      <th></th>\n",
       "      <th>CaseID</th>\n",
       "    </tr>\n",
       "    <tr>\n",
       "      <th>Request Type</th>\n",
       "      <th></th>\n",
       "    </tr>\n",
       "  </thead>\n",
       "  <tbody>\n",
       "    <tr>\n",
       "      <th>request_for_service</th>\n",
       "      <td>73264</td>\n",
       "    </tr>\n",
       "    <tr>\n",
       "      <th>Human or Animal Waste</th>\n",
       "      <td>90076</td>\n",
       "    </tr>\n",
       "    <tr>\n",
       "      <th>Encampment Reports</th>\n",
       "      <td>189174</td>\n",
       "    </tr>\n",
       "    <tr>\n",
       "      <th>General Cleaning</th>\n",
       "      <td>227946</td>\n",
       "    </tr>\n",
       "    <tr>\n",
       "      <th>Bulky Items</th>\n",
       "      <td>300248</td>\n",
       "    </tr>\n",
       "  </tbody>\n",
       "</table>\n",
       "</div>"
      ],
      "text/plain": [
       "                       CaseID\n",
       "Request Type                 \n",
       "request_for_service     73264\n",
       "Human or Animal Waste   90076\n",
       "Encampment Reports     189174\n",
       "General Cleaning       227946\n",
       "Bulky Items            300248"
      ]
     },
     "execution_count": 45,
     "metadata": {},
     "output_type": "execute_result"
    }
   ],
   "source": [
    "service = final_df.groupby('Request Type')['CaseID'].count().sort_values().tail(5)\n",
    "service_df = pd.DataFrame(service)\n",
    "service_df\n"
   ]
  },
  {
   "cell_type": "code",
   "execution_count": 46,
   "metadata": {},
   "outputs": [
    {
     "data": {
      "image/png": "[encoded data removed]",
      "text/plain": [
       "<Figure size 432x288 with 1 Axes>"
      ]
     },
     "metadata": {
      "needs_background": "light"
     },
     "output_type": "display_data"
    }
   ],
   "source": [
    "scat_c = ['Request For Service','Human or Animal Waste', 'Encampment Reports', \n",
    "                  'General Cleaning', 'Bulky Items']\n",
    "scat_c\n",
    "scat_count = service_df['CaseID']\n",
    "scat_count\n",
    "x_axis = np.arange(len(scat_c))\n",
    "\n",
    "plt.bar(scat_c, scat_count, color=(('#F2E30F', '#0FF28C', '#0F93F2', '#F20F29', '#7950C7')), \n",
    "                                align=\"center\", width = 0.7, edgecolor = 'black', linewidth = 1)\n",
    "tick_locations = [value for value in scat_c]\n",
    "plt.xticks(tick_locations, scat_c, rotation=70)\n",
    "plt.xlim(-0.75, len(x_axis)-0.25)\n",
    "plt.ylim(0, max(day_count)+40000)\n",
    "plt.title(\"Number of Request by Sub-Category\")\n",
    "plt.xlabel(\"311 Call Sub-Categories\")\n",
    "plt.ylabel(\"311 Request Count\")\n",
    "plt.show()"
   ]
  },
  {
   "cell_type": "code",
   "execution_count": null,
   "metadata": {},
   "outputs": [],
   "source": []
  }
 ],
 "metadata": {
  "kernelspec": {
   "display_name": "Python 3",
   "language": "python",
   "name": "python3"
  },
  "language_info": {
   "codemirror_mode": {
    "name": "ipython",
    "version": 3
   },
   "file_extension": ".py",
   "mimetype": "text/x-python",
   "name": "python",
   "nbconvert_exporter": "python",
   "pygments_lexer": "ipython3",
   "version": "3.6.9"
  }
 },
 "nbformat": 4,
 "nbformat_minor": 4
}
