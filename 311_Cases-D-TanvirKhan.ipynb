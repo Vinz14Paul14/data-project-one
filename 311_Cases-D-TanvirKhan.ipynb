{
 "cells": [
  {
   "attachments": {},
   "cell_type": "markdown",
   "metadata": {},
   "source": [
    "# Hypothesis 3: Number of service request will increase with population\n",
    "\n",
    "by Tanvir Khan"
   ]
  },
  {
   "cell_type": "markdown",
   "metadata": {},
   "source": [
    "### Import Libraries & Dependancies"
   ]
  },
  {
   "cell_type": "code",
   "execution_count": 1,
   "metadata": {},
   "outputs": [],
   "source": [
    "import numpy as np\n",
    "import pandas as pd\n",
    "import csv\n",
    "import matplotlib.pyplot as plt\n",
    "import requests\n",
    "from census import Census\n",
    "from us import states\n",
    "from pprint import pprint\n",
    "import datetime\n",
    "import gmaps\n",
    "from scipy.stats import linregress\n",
    "#import matplotlib.cm as cm\n",
    "from numpy.random import rand\n",
    "import scipy.stats as stats\n",
    "\n",
    "pd.options.display.float_format = '{:,.2f}'.format\n"
   ]
  },
  {
   "cell_type": "markdown",
   "metadata": {},
   "source": [
    "### Final Correct Data Constructed"
   ]
  },
  {
   "cell_type": "code",
   "execution_count": 2,
   "metadata": {
    "scrolled": true
   },
   "outputs": [
    {
     "data": {
      "text/html": [
       "<div>\n",
       "<style scoped>\n",
       "    .dataframe tbody tr th:only-of-type {\n",
       "        vertical-align: middle;\n",
       "    }\n",
       "\n",
       "    .dataframe tbody tr th {\n",
       "        vertical-align: top;\n",
       "    }\n",
       "\n",
       "    .dataframe thead th {\n",
       "        text-align: right;\n",
       "    }\n",
       "</style>\n",
       "<table border=\"1\" class=\"dataframe\">\n",
       "  <thead>\n",
       "    <tr style=\"text-align: right;\">\n",
       "      <th></th>\n",
       "      <th>Unnamed: 0</th>\n",
       "      <th>CaseID</th>\n",
       "      <th>Opened</th>\n",
       "      <th>Category</th>\n",
       "      <th>Request Type</th>\n",
       "      <th>Neighborhood</th>\n",
       "      <th>Latitude</th>\n",
       "      <th>Longitude</th>\n",
       "      <th>Source</th>\n",
       "      <th>Media URL</th>\n",
       "      <th>Opened Date</th>\n",
       "      <th>Opened Year</th>\n",
       "      <th>Zipcode</th>\n",
       "      <th>Population</th>\n",
       "      <th>Median Age</th>\n",
       "      <th>Household Income</th>\n",
       "      <th>Per Capita Income</th>\n",
       "      <th>Poverty Count</th>\n",
       "      <th>Poverty Rate</th>\n",
       "    </tr>\n",
       "  </thead>\n",
       "  <tbody>\n",
       "    <tr>\n",
       "      <th>0</th>\n",
       "      <td>0</td>\n",
       "      <td>10395976</td>\n",
       "      <td>01/23/2019 01:34:53 PM</td>\n",
       "      <td>Sign Repair</td>\n",
       "      <td>Sign - Missing</td>\n",
       "      <td>Mission</td>\n",
       "      <td>37.76</td>\n",
       "      <td>-122.41</td>\n",
       "      <td>Web</td>\n",
       "      <td>NaN</td>\n",
       "      <td>01/23/2019</td>\n",
       "      <td>2019</td>\n",
       "      <td>94110</td>\n",
       "      <td>73,737.00</td>\n",
       "      <td>36.60</td>\n",
       "      <td>109,747.00</td>\n",
       "      <td>59,660.00</td>\n",
       "      <td>7,321.00</td>\n",
       "      <td>9.93</td>\n",
       "    </tr>\n",
       "    <tr>\n",
       "      <th>1</th>\n",
       "      <td>1</td>\n",
       "      <td>11886797</td>\n",
       "      <td>01/01/2020 09:06:00 PM</td>\n",
       "      <td>General Request - PUBLIC WORKS</td>\n",
       "      <td>request_for_service</td>\n",
       "      <td>Mission</td>\n",
       "      <td>37.76</td>\n",
       "      <td>-122.42</td>\n",
       "      <td>Web</td>\n",
       "      <td>NaN</td>\n",
       "      <td>01/01/2020</td>\n",
       "      <td>2020</td>\n",
       "      <td>94110</td>\n",
       "      <td>73,737.00</td>\n",
       "      <td>36.60</td>\n",
       "      <td>109,747.00</td>\n",
       "      <td>59,660.00</td>\n",
       "      <td>7,321.00</td>\n",
       "      <td>9.93</td>\n",
       "    </tr>\n",
       "    <tr>\n",
       "      <th>2</th>\n",
       "      <td>2</td>\n",
       "      <td>11089240</td>\n",
       "      <td>07/05/2019 03:12:37 PM</td>\n",
       "      <td>Graffiti</td>\n",
       "      <td>Graffiti on Building_other</td>\n",
       "      <td>Mission</td>\n",
       "      <td>37.76</td>\n",
       "      <td>-122.41</td>\n",
       "      <td>Integrated Agency</td>\n",
       "      <td>NaN</td>\n",
       "      <td>07/05/2019</td>\n",
       "      <td>2019</td>\n",
       "      <td>94110</td>\n",
       "      <td>73,737.00</td>\n",
       "      <td>36.60</td>\n",
       "      <td>109,747.00</td>\n",
       "      <td>59,660.00</td>\n",
       "      <td>7,321.00</td>\n",
       "      <td>9.93</td>\n",
       "    </tr>\n",
       "    <tr>\n",
       "      <th>3</th>\n",
       "      <td>3</td>\n",
       "      <td>11239390</td>\n",
       "      <td>08/07/2019 01:25:51 PM</td>\n",
       "      <td>Graffiti</td>\n",
       "      <td>Graffiti on Building_other</td>\n",
       "      <td>Mission</td>\n",
       "      <td>37.76</td>\n",
       "      <td>-122.42</td>\n",
       "      <td>Integrated Agency</td>\n",
       "      <td>NaN</td>\n",
       "      <td>08/07/2019</td>\n",
       "      <td>2019</td>\n",
       "      <td>94110</td>\n",
       "      <td>73,737.00</td>\n",
       "      <td>36.60</td>\n",
       "      <td>109,747.00</td>\n",
       "      <td>59,660.00</td>\n",
       "      <td>7,321.00</td>\n",
       "      <td>9.93</td>\n",
       "    </tr>\n",
       "    <tr>\n",
       "      <th>4</th>\n",
       "      <td>4</td>\n",
       "      <td>11886078</td>\n",
       "      <td>01/01/2020 03:27:00 PM</td>\n",
       "      <td>Street and Sidewalk Cleaning</td>\n",
       "      <td>General Cleaning</td>\n",
       "      <td>Mission</td>\n",
       "      <td>37.77</td>\n",
       "      <td>-122.42</td>\n",
       "      <td>Mobile/Open311</td>\n",
       "      <td>http://mobile311.sfgov.org/reports/11886078/ph...</td>\n",
       "      <td>01/01/2020</td>\n",
       "      <td>2020</td>\n",
       "      <td>94110</td>\n",
       "      <td>73,737.00</td>\n",
       "      <td>36.60</td>\n",
       "      <td>109,747.00</td>\n",
       "      <td>59,660.00</td>\n",
       "      <td>7,321.00</td>\n",
       "      <td>9.93</td>\n",
       "    </tr>\n",
       "  </tbody>\n",
       "</table>\n",
       "</div>"
      ],
      "text/plain": [
       "   Unnamed: 0    CaseID                  Opened  \\\n",
       "0           0  10395976  01/23/2019 01:34:53 PM   \n",
       "1           1  11886797  01/01/2020 09:06:00 PM   \n",
       "2           2  11089240  07/05/2019 03:12:37 PM   \n",
       "3           3  11239390  08/07/2019 01:25:51 PM   \n",
       "4           4  11886078  01/01/2020 03:27:00 PM   \n",
       "\n",
       "                         Category                Request Type Neighborhood  \\\n",
       "0                     Sign Repair              Sign - Missing      Mission   \n",
       "1  General Request - PUBLIC WORKS         request_for_service      Mission   \n",
       "2                        Graffiti  Graffiti on Building_other      Mission   \n",
       "3                        Graffiti  Graffiti on Building_other      Mission   \n",
       "4    Street and Sidewalk Cleaning            General Cleaning      Mission   \n",
       "\n",
       "   Latitude  Longitude             Source  \\\n",
       "0     37.76    -122.41                Web   \n",
       "1     37.76    -122.42                Web   \n",
       "2     37.76    -122.41  Integrated Agency   \n",
       "3     37.76    -122.42  Integrated Agency   \n",
       "4     37.77    -122.42     Mobile/Open311   \n",
       "\n",
       "                                           Media URL Opened Date  Opened Year  \\\n",
       "0                                                NaN  01/23/2019         2019   \n",
       "1                                                NaN  01/01/2020         2020   \n",
       "2                                                NaN  07/05/2019         2019   \n",
       "3                                                NaN  08/07/2019         2019   \n",
       "4  http://mobile311.sfgov.org/reports/11886078/ph...  01/01/2020         2020   \n",
       "\n",
       "   Zipcode  Population  Median Age  Household Income  Per Capita Income  \\\n",
       "0    94110   73,737.00       36.60        109,747.00          59,660.00   \n",
       "1    94110   73,737.00       36.60        109,747.00          59,660.00   \n",
       "2    94110   73,737.00       36.60        109,747.00          59,660.00   \n",
       "3    94110   73,737.00       36.60        109,747.00          59,660.00   \n",
       "4    94110   73,737.00       36.60        109,747.00          59,660.00   \n",
       "\n",
       "   Poverty Count  Poverty Rate  \n",
       "0       7,321.00          9.93  \n",
       "1       7,321.00          9.93  \n",
       "2       7,321.00          9.93  \n",
       "3       7,321.00          9.93  \n",
       "4       7,321.00          9.93  "
      ]
     },
     "execution_count": 2,
     "metadata": {},
     "output_type": "execute_result"
    }
   ],
   "source": [
    "# Read & load final_df.csv file that contains 311 cases and Census data from 2017 and above\n",
    "final_df = pd.read_csv('final_df.csv')\n",
    "final_df.head()"
   ]
  },
  {
   "cell_type": "code",
   "execution_count": 3,
   "metadata": {},
   "outputs": [],
   "source": [
    "#final_df.count()"
   ]
  },
  {
   "cell_type": "markdown",
   "metadata": {},
   "source": [
    "### Hypotheis: 3"
   ]
  },
  {
   "cell_type": "markdown",
   "metadata": {},
   "source": [
    "#### Number of 311 Requests by Zip Code"
   ]
  },
  {
   "cell_type": "code",
   "execution_count": 4,
   "metadata": {},
   "outputs": [
    {
     "data": {
      "text/plain": [
       "Zipcode\n",
       "94110    283725\n",
       "94103    190955\n",
       "94102    171629\n",
       "Name: CaseID, dtype: int64"
      ]
     },
     "execution_count": 4,
     "metadata": {},
     "output_type": "execute_result"
    }
   ],
   "source": [
    "request_by_zip__count = final_df.groupby('Zipcode')['CaseID'].count().sort_values(ascending=False)\n",
    "service = request_by_zip__count[request_by_zip__count > 0]\n",
    "request_by_zip__count.sort_index(inplace=True)\n",
    "request_by_zip__count.head()\n",
    "request_by_zip__count.nlargest(3)\n",
    "# request_by_zip__count.describe()"
   ]
  },
  {
   "cell_type": "code",
   "execution_count": 5,
   "metadata": {
    "scrolled": false
   },
   "outputs": [
    {
     "data": {
      "image/png": "[encoded data removed]",
      "text/plain": [
       "<Figure size 1152x576 with 1 Axes>"
      ]
     },
     "metadata": {
      "needs_background": "light"
     },
     "output_type": "display_data"
    }
   ],
   "source": [
    "# Bar Graph Number of Requests for each Zipcode\n",
    "fig, ax = plt.subplots(figsize=[16, 8])\n",
    "request_by_zip__count_plt = request_by_zip__count.plot(kind='bar', color='green',alpha =0.75)\n",
    "plt.xlabel('Zip Code')\n",
    "plt.ylabel('Number of Requests in Thosuands')\n",
    "plt.title('Number of 311 Requests by Zipcde')\n",
    "plt.xticks(rotation=60, ha='right')\n",
    "plt.tight_layout()\n",
    "plt.savefig(\"Number_of_311_Requests_ by_Zipcode(10).png\")"
   ]
  },
  {
   "cell_type": "markdown",
   "metadata": {},
   "source": [
    "#### Population Numbers by Zip Code\n"
   ]
  },
  {
   "cell_type": "code",
   "execution_count": 6,
   "metadata": {},
   "outputs": [
    {
     "data": {
      "text/plain": [
       "Zipcode\n",
       "94112   85,373.00\n",
       "94110   73,737.00\n",
       "94122   62,516.00\n",
       "Name: Population, dtype: float64"
      ]
     },
     "execution_count": 6,
     "metadata": {},
     "output_type": "execute_result"
    }
   ],
   "source": [
    "zip_population = final_df.groupby('Zipcode')['Population'].mean().sort_values(ascending=False)\n",
    "zip_population.sort_index(inplace=True)\n",
    "zip_population.head()\n",
    "zip_population.nlargest(3)\n",
    "#zip_population.describe()"
   ]
  },
  {
   "cell_type": "code",
   "execution_count": 7,
   "metadata": {},
   "outputs": [
    {
     "data": {
      "image/png": "[encoded data removed]",
      "text/plain": [
       "<Figure size 1152x576 with 1 Axes>"
      ]
     },
     "metadata": {
      "needs_background": "light"
     },
     "output_type": "display_data"
    }
   ],
   "source": [
    "# Bar Graph Population Numbers for each Zipcode\n",
    "fig, ax = plt.subplots(figsize=[16, 8])\n",
    "zip_pop_plt = zip_population.plot(kind='bar', color='blue',alpha =0.75)\n",
    "plt.xlabel('Zip Code')\n",
    "plt.ylabel('Population in Thousands')\n",
    "plt.title('Population by Zipcode')\n",
    "plt.xticks(rotation=60, ha='right')\n",
    "plt.tight_layout()\n",
    "\n",
    "plt.savefig(\"Population_by_each_Zipcode(10).png\")"
   ]
  },
  {
   "cell_type": "markdown",
   "metadata": {},
   "source": [
    "### Data Visualization"
   ]
  },
  {
   "cell_type": "markdown",
   "metadata": {},
   "source": [
    "#### Location of Requests, Population Numbers, Income, Neighborhood by Zip code on Google Heatmap"
   ]
  },
  {
   "cell_type": "code",
   "execution_count": 8,
   "metadata": {
    "scrolled": true
   },
   "outputs": [
    {
     "data": {
      "application/vnd.jupyter.widget-view+json": {
       "model_id": "58df6d21586a45098bdce89da1b69a6e",
       "version_major": 2,
       "version_minor": 0
      },
      "text/plain": [
       "Figure(layout=FigureLayout(height='420px'))"
      ]
     },
     "metadata": {},
     "output_type": "display_data"
    }
   ],
   "source": [
    "\n",
    "coordinates= final_df.groupby('Zipcode')[['Latitude','Longitude']].mean().dropna()\n",
    "coordinates\n",
    "\n",
    "request_by_zip__count = final_df.groupby('Zipcode')['CaseID'].count().sort_values(ascending=False)\n",
    "request_by_zip__count.sort_index(inplace=True)\n",
    "request_by_zip__count\n",
    "\n",
    "\n",
    "from config import g_key\n",
    "gmaps.configure(api_key=g_key)\n",
    "heat_map = gmaps.heatmap_layer(coordinates,weights=request_by_zip__count,point_radius=50,opacity=.5)\n",
    "fig = gmaps.figure()\n",
    "fig.add_layer(heat_map)\n",
    "fig"
   ]
  },
  {
   "cell_type": "code",
   "execution_count": 9,
   "metadata": {
    "scrolled": false
   },
   "outputs": [
    {
     "name": "stderr",
     "output_type": "stream",
     "text": [
      "C:\\Users\\h_23m\\Anaconda3\\envs\\PythonData\\lib\\site-packages\\ipykernel_launcher.py:2: SettingWithCopyWarning: \n",
      "A value is trying to be set on a copy of a slice from a DataFrame\n",
      "\n",
      "See the caveats in the documentation: https://pandas.pydata.org/pandas-docs/stable/user_guide/indexing.html#returning-a-view-versus-a-copy\n",
      "  \n",
      "C:\\Users\\h_23m\\Anaconda3\\envs\\PythonData\\lib\\site-packages\\ipykernel_launcher.py:3: SettingWithCopyWarning: \n",
      "A value is trying to be set on a copy of a slice from a DataFrame.\n",
      "Try using .loc[row_indexer,col_indexer] = value instead\n",
      "\n",
      "See the caveats in the documentation: https://pandas.pydata.org/pandas-docs/stable/user_guide/indexing.html#returning-a-view-versus-a-copy\n",
      "  This is separate from the ipykernel package so we can avoid doing imports until\n"
     ]
    },
    {
     "data": {
      "text/html": [
       "<div>\n",
       "<style scoped>\n",
       "    .dataframe tbody tr th:only-of-type {\n",
       "        vertical-align: middle;\n",
       "    }\n",
       "\n",
       "    .dataframe tbody tr th {\n",
       "        vertical-align: top;\n",
       "    }\n",
       "\n",
       "    .dataframe thead th {\n",
       "        text-align: right;\n",
       "    }\n",
       "</style>\n",
       "<table border=\"1\" class=\"dataframe\">\n",
       "  <thead>\n",
       "    <tr style=\"text-align: right;\">\n",
       "      <th></th>\n",
       "      <th>Unnamed: 0</th>\n",
       "      <th>CaseID</th>\n",
       "      <th>Opened</th>\n",
       "      <th>Category</th>\n",
       "      <th>Request Type</th>\n",
       "      <th>Neighborhood</th>\n",
       "      <th>Latitude</th>\n",
       "      <th>Longitude</th>\n",
       "      <th>Source</th>\n",
       "      <th>Media URL</th>\n",
       "      <th>Opened Date</th>\n",
       "      <th>Opened Year</th>\n",
       "      <th>Zipcode</th>\n",
       "      <th>Population</th>\n",
       "      <th>Median Age</th>\n",
       "      <th>Household Income</th>\n",
       "      <th>Per Capita Income</th>\n",
       "      <th>Poverty Count</th>\n",
       "      <th>Poverty Rate</th>\n",
       "      <th>Request Count</th>\n",
       "    </tr>\n",
       "  </thead>\n",
       "  <tbody>\n",
       "    <tr>\n",
       "      <th>743749</th>\n",
       "      <td>743749</td>\n",
       "      <td>10478416</td>\n",
       "      <td>02/12/2019 08:01:00 AM</td>\n",
       "      <td>Street Defects</td>\n",
       "      <td>Pavement_Defect</td>\n",
       "      <td>Downtown / Union Square</td>\n",
       "      <td>37.78</td>\n",
       "      <td>-122.41</td>\n",
       "      <td>Mobile/Open311</td>\n",
       "      <td>http://mobile311.sfgov.org/reports/10478416/ph...</td>\n",
       "      <td>02/12/2019</td>\n",
       "      <td>2019</td>\n",
       "      <td>94102</td>\n",
       "      <td>30,140.00</td>\n",
       "      <td>41.50</td>\n",
       "      <td>33,552.00</td>\n",
       "      <td>43,488.00</td>\n",
       "      <td>6,957.00</td>\n",
       "      <td>23.08</td>\n",
       "      <td>171629</td>\n",
       "    </tr>\n",
       "    <tr>\n",
       "      <th>1072573</th>\n",
       "      <td>1072573</td>\n",
       "      <td>11142940</td>\n",
       "      <td>07/17/2019 04:10:27 PM</td>\n",
       "      <td>Sidewalk or Curb</td>\n",
       "      <td>Curb_or_Curb_Ramp_Defect</td>\n",
       "      <td>South of Market</td>\n",
       "      <td>37.78</td>\n",
       "      <td>-122.41</td>\n",
       "      <td>Web</td>\n",
       "      <td>http://mobile311.sfgov.org/reports/11142940/ph...</td>\n",
       "      <td>07/17/2019</td>\n",
       "      <td>2019</td>\n",
       "      <td>94103</td>\n",
       "      <td>26,990.00</td>\n",
       "      <td>38.80</td>\n",
       "      <td>49,052.00</td>\n",
       "      <td>55,807.00</td>\n",
       "      <td>5,870.00</td>\n",
       "      <td>21.75</td>\n",
       "      <td>190955</td>\n",
       "    </tr>\n",
       "    <tr>\n",
       "      <th>951503</th>\n",
       "      <td>951503</td>\n",
       "      <td>10919714</td>\n",
       "      <td>05/28/2019 01:52:59 PM</td>\n",
       "      <td>Sidewalk or Curb</td>\n",
       "      <td>Sidewalk_Defect</td>\n",
       "      <td>Financial District</td>\n",
       "      <td>37.79</td>\n",
       "      <td>-122.40</td>\n",
       "      <td>Mobile/Open311</td>\n",
       "      <td>http://mobile311.sfgov.org/reports/10919714/ph...</td>\n",
       "      <td>05/28/2019</td>\n",
       "      <td>2019</td>\n",
       "      <td>94104</td>\n",
       "      <td>436.00</td>\n",
       "      <td>51.30</td>\n",
       "      <td>48,429.00</td>\n",
       "      <td>64,267.00</td>\n",
       "      <td>84.00</td>\n",
       "      <td>19.27</td>\n",
       "      <td>25598</td>\n",
       "    </tr>\n",
       "    <tr>\n",
       "      <th>1738971</th>\n",
       "      <td>1738971</td>\n",
       "      <td>11200413</td>\n",
       "      <td>07/30/2019 10:41:00 AM</td>\n",
       "      <td>Street Defects</td>\n",
       "      <td>Pavement_Defect</td>\n",
       "      <td>South Beach</td>\n",
       "      <td>37.78</td>\n",
       "      <td>-122.39</td>\n",
       "      <td>Phone</td>\n",
       "      <td>NaN</td>\n",
       "      <td>07/30/2019</td>\n",
       "      <td>2019</td>\n",
       "      <td>94105</td>\n",
       "      <td>7,675.00</td>\n",
       "      <td>37.60</td>\n",
       "      <td>199,364.00</td>\n",
       "      <td>154,723.00</td>\n",
       "      <td>733.00</td>\n",
       "      <td>9.55</td>\n",
       "      <td>24142</td>\n",
       "    </tr>\n",
       "    <tr>\n",
       "      <th>1418681</th>\n",
       "      <td>1418681</td>\n",
       "      <td>11204343</td>\n",
       "      <td>07/31/2019 07:43:52 AM</td>\n",
       "      <td>Sidewalk or Curb</td>\n",
       "      <td>Sidewalk_Defect</td>\n",
       "      <td>Potrero Hill</td>\n",
       "      <td>37.76</td>\n",
       "      <td>-122.40</td>\n",
       "      <td>Web</td>\n",
       "      <td>NaN</td>\n",
       "      <td>07/31/2019</td>\n",
       "      <td>2019</td>\n",
       "      <td>94107</td>\n",
       "      <td>29,920.00</td>\n",
       "      <td>35.90</td>\n",
       "      <td>143,467.00</td>\n",
       "      <td>87,735.00</td>\n",
       "      <td>3,391.00</td>\n",
       "      <td>11.33</td>\n",
       "      <td>86295</td>\n",
       "    </tr>\n",
       "  </tbody>\n",
       "</table>\n",
       "</div>"
      ],
      "text/plain": [
       "         Unnamed: 0    CaseID                  Opened          Category  \\\n",
       "743749       743749  10478416  02/12/2019 08:01:00 AM    Street Defects   \n",
       "1072573     1072573  11142940  07/17/2019 04:10:27 PM  Sidewalk or Curb   \n",
       "951503       951503  10919714  05/28/2019 01:52:59 PM  Sidewalk or Curb   \n",
       "1738971     1738971  11200413  07/30/2019 10:41:00 AM    Street Defects   \n",
       "1418681     1418681  11204343  07/31/2019 07:43:52 AM  Sidewalk or Curb   \n",
       "\n",
       "                     Request Type             Neighborhood  Latitude  \\\n",
       "743749            Pavement_Defect  Downtown / Union Square     37.78   \n",
       "1072573  Curb_or_Curb_Ramp_Defect          South of Market     37.78   \n",
       "951503            Sidewalk_Defect       Financial District     37.79   \n",
       "1738971           Pavement_Defect              South Beach     37.78   \n",
       "1418681           Sidewalk_Defect             Potrero Hill     37.76   \n",
       "\n",
       "         Longitude          Source  \\\n",
       "743749     -122.41  Mobile/Open311   \n",
       "1072573    -122.41             Web   \n",
       "951503     -122.40  Mobile/Open311   \n",
       "1738971    -122.39           Phone   \n",
       "1418681    -122.40             Web   \n",
       "\n",
       "                                                 Media URL Opened Date  \\\n",
       "743749   http://mobile311.sfgov.org/reports/10478416/ph...  02/12/2019   \n",
       "1072573  http://mobile311.sfgov.org/reports/11142940/ph...  07/17/2019   \n",
       "951503   http://mobile311.sfgov.org/reports/10919714/ph...  05/28/2019   \n",
       "1738971                                                NaN  07/30/2019   \n",
       "1418681                                                NaN  07/31/2019   \n",
       "\n",
       "         Opened Year  Zipcode  Population  Median Age  Household Income  \\\n",
       "743749          2019    94102   30,140.00       41.50         33,552.00   \n",
       "1072573         2019    94103   26,990.00       38.80         49,052.00   \n",
       "951503          2019    94104      436.00       51.30         48,429.00   \n",
       "1738971         2019    94105    7,675.00       37.60        199,364.00   \n",
       "1418681         2019    94107   29,920.00       35.90        143,467.00   \n",
       "\n",
       "         Per Capita Income  Poverty Count  Poverty Rate  Request Count  \n",
       "743749           43,488.00       6,957.00         23.08         171629  \n",
       "1072573          55,807.00       5,870.00         21.75         190955  \n",
       "951503           64,267.00          84.00         19.27          25598  \n",
       "1738971         154,723.00         733.00          9.55          24142  \n",
       "1418681          87,735.00       3,391.00         11.33          86295  "
      ]
     },
     "execution_count": 9,
     "metadata": {},
     "output_type": "execute_result"
    }
   ],
   "source": [
    "groupby_zipcode = final_df.groupby('Zipcode').head(1)\n",
    "groupby_zipcode.sort_values('Zipcode', inplace=True)\n",
    "groupby_zipcode['Request Count'] = request_by_zip__count.values\n",
    "groupby_zipcode.head()"
   ]
  },
  {
   "cell_type": "code",
   "execution_count": 10,
   "metadata": {},
   "outputs": [
    {
     "data": {
      "application/vnd.jupyter.widget-view+json": {
       "model_id": "58df6d21586a45098bdce89da1b69a6e",
       "version_major": 2,
       "version_minor": 0
      },
      "text/plain": [
       "Figure(layout=FigureLayout(height='420px'))"
      ]
     },
     "metadata": {},
     "output_type": "display_data"
    },
    {
     "data": {
      "text/plain": [
       "<Figure size 432x288 with 0 Axes>"
      ]
     },
     "metadata": {},
     "output_type": "display_data"
    }
   ],
   "source": [
    "# NOTE: Do not change any of the code in this cell\n",
    "\n",
    "# Using the template add the hotel marks to the heatmap\n",
    "info_box_template = \"\"\"\n",
    "<dl>\n",
    "<dt>Neighborhood</dt><dd>{Neighborhood}</dd>\n",
    "<dt>Population</dt><dd>{Population}</dd>\n",
    "<dt>Income</dt><dd>{Per Capita Income}</dd>\n",
    "<dt>Zipcode</dt><dd>{Zipcode}</dd>\n",
    "<dt>Request Count</dt><dd>{Request Count}</dd>\n",
    "</dl>\n",
    "\"\"\"\n",
    "# For neighborhood Info to pop on Info box we need to perform iterows sice its string\n",
    "nbh_info = [info_box_template.format(**row) for index, row in groupby_zipcode.iterrows()]\n",
    "locations = groupby_zipcode[[\"Latitude\", \"Longitude\"]]\n",
    "\n",
    "# Add marker layer with Info box:\n",
    "marker_layer = gmaps.marker_layer(locations, hover_text='', label='', info_box_content=nbh_info)\n",
    "\n",
    "#fig.add_layer(heat_layer)\n",
    "fig.add_layer(marker_layer)\n",
    "plt.savefig(\"Neighborhood_Heatmap.png\")\n",
    "\n",
    "# Display Map\n",
    "fig\n"
   ]
  },
  {
   "cell_type": "markdown",
   "metadata": {},
   "source": [
    "### Statistical Analysis & Testing Hypothesis"
   ]
  },
  {
   "cell_type": "markdown",
   "metadata": {},
   "source": [
    "#### Is there any correlation between the number of requests and population"
   ]
  },
  {
   "cell_type": "code",
   "execution_count": 11,
   "metadata": {
    "scrolled": true
   },
   "outputs": [
    {
     "name": "stdout",
     "output_type": "stream",
     "text": [
      "Correlation Coefficient =  0.60149\n",
      "Correlation Determinant =  0.36179\n",
      "p-value =  0.00115\n"
     ]
    },
    {
     "data": {
      "image/png": "[encoded data removed]",
      "text/plain": [
       "<Figure size 720x432 with 1 Axes>"
      ]
     },
     "metadata": {
      "needs_background": "light"
     },
     "output_type": "display_data"
    }
   ],
   "source": [
    "# Testing goodness of fit & Pearson Coefficient\n",
    "slope, intercept, r_value, p_value,_ = linregress(zip_population, request_by_zip__count)\n",
    "fit = slope * zip_population + intercept\n",
    "line_eq = \"y = \" + str(round(slope,10)) + \"x + \" + str(round(intercept,2))\n",
    "plt.figure(figsize=[10, 6])\n",
    "plt.scatter(zip_population,request_by_zip__count,color='orange', edgecolor='r')\n",
    "plt.plot(zip_population, fit, color='red', linestyle='dashed')\n",
    "print(f'Correlation Coefficient = ','{0:.5f}'.format(r_value))\n",
    "print(f'Correlation Determinant = ','{0:.5f}'.format(r_value**2))\n",
    "print(f'p-value = ','{0:.5f}'.format(p_value))\n",
    "plt.annotate(line_eq,(1000,90000),fontsize=15,color=\"red\")\n",
    "plt.xlabel(\"Population\")\n",
    "plt.ylabel(\"Number of Requests\")\n",
    "plt.title(\"Population vs. Number of Service Calls\")\n",
    "plt.tight_layout()\n",
    "\n",
    "plt.savefig(\"Relation_NumOfRequests_vs_Population.png\")\n"
   ]
  },
  {
   "cell_type": "markdown",
   "metadata": {},
   "source": [
    "#### Hypothesis Test: How correct our assumption is? Is it signicant at 5% significance level?\n",
    "* HA = If there are higher number of population then the more number of service requests in that zipcode\n",
    "* H0 = The number of requests in a zipcode is not related to the number of population"
   ]
  },
  {
   "cell_type": "code",
   "execution_count": 12,
   "metadata": {},
   "outputs": [
    {
     "data": {
      "text/plain": [
       "F_onewayResult(statistic=7.537305359735442, pvalue=0.008374915497904369)"
      ]
     },
     "execution_count": 12,
     "metadata": {},
     "output_type": "execute_result"
    }
   ],
   "source": [
    "import scipy.stats as stats\n",
    "\n",
    "stats.f_oneway(request_by_zip__count, zip_population)\n"
   ]
  },
  {
   "cell_type": "markdown",
   "metadata": {},
   "source": [
    "### Conclusion"
   ]
  },
  {
   "cell_type": "markdown",
   "metadata": {},
   "source": [
    "Result: Since p-value is very small 0.00837 ( ≤ 0.05) indicates strong evidence against the null hypothesis, so you reject the null hypothesis. We found our hypothesis(assumption) is statistically significant at 5% significance level and were able to reject the null.\n",
    "\n",
    "Conclusion:\n",
    "From the bar plots, google heat maps, linear modeling, and statistical analysis shows the validity of our model and hence our hypothesis assumption is correct, if the population number is higher, then the number of service requests/complaints is higher in that Zip code.\n"
   ]
  },
  {
   "cell_type": "code",
   "execution_count": null,
   "metadata": {},
   "outputs": [],
   "source": []
  }
 ],
 "metadata": {
  "kernelspec": {
   "display_name": "Python [conda env:Anaconda3-PythonData]",
   "language": "python",
   "name": "conda-env-Anaconda3-PythonData-py"
  },
  "language_info": {
   "codemirror_mode": {
    "name": "ipython",
    "version": 3
   },
   "file_extension": ".py",
   "mimetype": "text/x-python",
   "name": "python",
   "nbconvert_exporter": "python",
   "pygments_lexer": "ipython3",
   "version": "3.6.9"
  }
 },
 "nbformat": 4,
 "nbformat_minor": 2
}
