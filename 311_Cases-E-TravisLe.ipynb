{
 "cells": [
  {
   "cell_type": "markdown",
   "metadata": {},
   "source": [
    "## Hypothesis 4:\n",
    "by Travis Le\n",
    "### Ha : Number of service requests increase by shelter-in-place\n",
    "### Ho:  Number of service requests not increase by shelter-in-place"
   ]
  },
  {
   "cell_type": "markdown",
   "metadata": {},
   "source": [
    "1. Case ID count by month of years\n"
   ]
  },
  {
   "cell_type": "code",
   "execution_count": 1,
   "metadata": {},
   "outputs": [],
   "source": [
    "import numpy as np\n",
    "import pandas as pd\n",
    "import csv\n",
    "import matplotlib.pyplot as plt\n",
    "import requests\n",
    "from census import Census\n",
    "from us import states\n",
    "from pprint import pprint\n"
   ]
  },
  {
   "cell_type": "code",
   "execution_count": 2,
   "metadata": {},
   "outputs": [
    {
     "data": {
      "text/html": [
       "<div>\n",
       "<style scoped>\n",
       "    .dataframe tbody tr th:only-of-type {\n",
       "        vertical-align: middle;\n",
       "    }\n",
       "\n",
       "    .dataframe tbody tr th {\n",
       "        vertical-align: top;\n",
       "    }\n",
       "\n",
       "    .dataframe thead th {\n",
       "        text-align: right;\n",
       "    }\n",
       "</style>\n",
       "<table border=\"1\" class=\"dataframe\">\n",
       "  <thead>\n",
       "    <tr style=\"text-align: right;\">\n",
       "      <th></th>\n",
       "      <th>Unnamed: 0</th>\n",
       "      <th>CaseID</th>\n",
       "      <th>Opened</th>\n",
       "      <th>Category</th>\n",
       "      <th>Request Type</th>\n",
       "      <th>Neighborhood</th>\n",
       "      <th>Latitude</th>\n",
       "      <th>Longitude</th>\n",
       "      <th>Source</th>\n",
       "      <th>Media URL</th>\n",
       "      <th>Opened Date</th>\n",
       "      <th>Opened Year</th>\n",
       "      <th>Zipcode</th>\n",
       "      <th>Population</th>\n",
       "      <th>Median Age</th>\n",
       "      <th>Household Income</th>\n",
       "      <th>Per Capita Income</th>\n",
       "      <th>Poverty Count</th>\n",
       "      <th>Poverty Rate</th>\n",
       "    </tr>\n",
       "  </thead>\n",
       "  <tbody>\n",
       "    <tr>\n",
       "      <td>0</td>\n",
       "      <td>0</td>\n",
       "      <td>10395976</td>\n",
       "      <td>01/23/2019 01:34:53 PM</td>\n",
       "      <td>Sign Repair</td>\n",
       "      <td>Sign - Missing</td>\n",
       "      <td>Mission</td>\n",
       "      <td>37.764091</td>\n",
       "      <td>-122.413002</td>\n",
       "      <td>Web</td>\n",
       "      <td>NaN</td>\n",
       "      <td>01/23/2019</td>\n",
       "      <td>2019</td>\n",
       "      <td>94110</td>\n",
       "      <td>73737.0</td>\n",
       "      <td>36.6</td>\n",
       "      <td>109747.0</td>\n",
       "      <td>59660.0</td>\n",
       "      <td>7321.0</td>\n",
       "      <td>9.92853</td>\n",
       "    </tr>\n",
       "    <tr>\n",
       "      <td>1</td>\n",
       "      <td>1</td>\n",
       "      <td>11886797</td>\n",
       "      <td>01/01/2020 09:06:00 PM</td>\n",
       "      <td>General Request - PUBLIC WORKS</td>\n",
       "      <td>request_for_service</td>\n",
       "      <td>Mission</td>\n",
       "      <td>37.764840</td>\n",
       "      <td>-122.415038</td>\n",
       "      <td>Web</td>\n",
       "      <td>NaN</td>\n",
       "      <td>01/01/2020</td>\n",
       "      <td>2020</td>\n",
       "      <td>94110</td>\n",
       "      <td>73737.0</td>\n",
       "      <td>36.6</td>\n",
       "      <td>109747.0</td>\n",
       "      <td>59660.0</td>\n",
       "      <td>7321.0</td>\n",
       "      <td>9.92853</td>\n",
       "    </tr>\n",
       "    <tr>\n",
       "      <td>2</td>\n",
       "      <td>2</td>\n",
       "      <td>11089240</td>\n",
       "      <td>07/05/2019 03:12:37 PM</td>\n",
       "      <td>Graffiti</td>\n",
       "      <td>Graffiti on Building_other</td>\n",
       "      <td>Mission</td>\n",
       "      <td>37.755848</td>\n",
       "      <td>-122.414551</td>\n",
       "      <td>Integrated Agency</td>\n",
       "      <td>NaN</td>\n",
       "      <td>07/05/2019</td>\n",
       "      <td>2019</td>\n",
       "      <td>94110</td>\n",
       "      <td>73737.0</td>\n",
       "      <td>36.6</td>\n",
       "      <td>109747.0</td>\n",
       "      <td>59660.0</td>\n",
       "      <td>7321.0</td>\n",
       "      <td>9.92853</td>\n",
       "    </tr>\n",
       "    <tr>\n",
       "      <td>3</td>\n",
       "      <td>3</td>\n",
       "      <td>11239390</td>\n",
       "      <td>08/07/2019 01:25:51 PM</td>\n",
       "      <td>Graffiti</td>\n",
       "      <td>Graffiti on Building_other</td>\n",
       "      <td>Mission</td>\n",
       "      <td>37.755703</td>\n",
       "      <td>-122.416397</td>\n",
       "      <td>Integrated Agency</td>\n",
       "      <td>NaN</td>\n",
       "      <td>08/07/2019</td>\n",
       "      <td>2019</td>\n",
       "      <td>94110</td>\n",
       "      <td>73737.0</td>\n",
       "      <td>36.6</td>\n",
       "      <td>109747.0</td>\n",
       "      <td>59660.0</td>\n",
       "      <td>7321.0</td>\n",
       "      <td>9.92853</td>\n",
       "    </tr>\n",
       "    <tr>\n",
       "      <td>4</td>\n",
       "      <td>4</td>\n",
       "      <td>11886078</td>\n",
       "      <td>01/01/2020 03:27:00 PM</td>\n",
       "      <td>Street and Sidewalk Cleaning</td>\n",
       "      <td>General Cleaning</td>\n",
       "      <td>Mission</td>\n",
       "      <td>37.769532</td>\n",
       "      <td>-122.415847</td>\n",
       "      <td>Mobile/Open311</td>\n",
       "      <td>http://mobile311.sfgov.org/reports/11886078/ph...</td>\n",
       "      <td>01/01/2020</td>\n",
       "      <td>2020</td>\n",
       "      <td>94110</td>\n",
       "      <td>73737.0</td>\n",
       "      <td>36.6</td>\n",
       "      <td>109747.0</td>\n",
       "      <td>59660.0</td>\n",
       "      <td>7321.0</td>\n",
       "      <td>9.92853</td>\n",
       "    </tr>\n",
       "  </tbody>\n",
       "</table>\n",
       "</div>"
      ],
      "text/plain": [
       "   Unnamed: 0    CaseID                  Opened  \\\n",
       "0           0  10395976  01/23/2019 01:34:53 PM   \n",
       "1           1  11886797  01/01/2020 09:06:00 PM   \n",
       "2           2  11089240  07/05/2019 03:12:37 PM   \n",
       "3           3  11239390  08/07/2019 01:25:51 PM   \n",
       "4           4  11886078  01/01/2020 03:27:00 PM   \n",
       "\n",
       "                         Category                Request Type Neighborhood  \\\n",
       "0                     Sign Repair              Sign - Missing      Mission   \n",
       "1  General Request - PUBLIC WORKS         request_for_service      Mission   \n",
       "2                        Graffiti  Graffiti on Building_other      Mission   \n",
       "3                        Graffiti  Graffiti on Building_other      Mission   \n",
       "4    Street and Sidewalk Cleaning            General Cleaning      Mission   \n",
       "\n",
       "    Latitude   Longitude             Source  \\\n",
       "0  37.764091 -122.413002                Web   \n",
       "1  37.764840 -122.415038                Web   \n",
       "2  37.755848 -122.414551  Integrated Agency   \n",
       "3  37.755703 -122.416397  Integrated Agency   \n",
       "4  37.769532 -122.415847     Mobile/Open311   \n",
       "\n",
       "                                           Media URL Opened Date  Opened Year  \\\n",
       "0                                                NaN  01/23/2019         2019   \n",
       "1                                                NaN  01/01/2020         2020   \n",
       "2                                                NaN  07/05/2019         2019   \n",
       "3                                                NaN  08/07/2019         2019   \n",
       "4  http://mobile311.sfgov.org/reports/11886078/ph...  01/01/2020         2020   \n",
       "\n",
       "   Zipcode  Population  Median Age  Household Income  Per Capita Income  \\\n",
       "0    94110     73737.0        36.6          109747.0            59660.0   \n",
       "1    94110     73737.0        36.6          109747.0            59660.0   \n",
       "2    94110     73737.0        36.6          109747.0            59660.0   \n",
       "3    94110     73737.0        36.6          109747.0            59660.0   \n",
       "4    94110     73737.0        36.6          109747.0            59660.0   \n",
       "\n",
       "   Poverty Count  Poverty Rate  \n",
       "0         7321.0       9.92853  \n",
       "1         7321.0       9.92853  \n",
       "2         7321.0       9.92853  \n",
       "3         7321.0       9.92853  \n",
       "4         7321.0       9.92853  "
      ]
     },
     "execution_count": 2,
     "metadata": {},
     "output_type": "execute_result"
    }
   ],
   "source": [
    "final_df = pd.read_csv(\"final_df.csv\", low_memory=False)\n",
    "final_df.head()"
   ]
  },
  {
   "cell_type": "markdown",
   "metadata": {},
   "source": [
    "### Analysis Start from this point"
   ]
  },
  {
   "cell_type": "code",
   "execution_count": 3,
   "metadata": {},
   "outputs": [],
   "source": [
    "# final_df.count()"
   ]
  },
  {
   "cell_type": "code",
   "execution_count": 4,
   "metadata": {},
   "outputs": [
    {
     "data": {
      "text/plain": [
       "0          1\n",
       "1          1\n",
       "2          7\n",
       "3          8\n",
       "4          1\n",
       "          ..\n",
       "1873838    9\n",
       "1873839    9\n",
       "1873840    9\n",
       "1873841    9\n",
       "1873842    9\n",
       "Name: Opened Month, Length: 1873843, dtype: int32"
      ]
     },
     "execution_count": 4,
     "metadata": {},
     "output_type": "execute_result"
    }
   ],
   "source": [
    "# Add column Opened Month to get month of the year\n",
    "final_df['Opened Month'] = final_df['Opened Date'].str.slice(start = 0, stop=2 ).astype(int)\n",
    "final_df['Opened Month']"
   ]
  },
  {
   "cell_type": "code",
   "execution_count": 5,
   "metadata": {},
   "outputs": [
    {
     "data": {
      "text/plain": [
       "[39814, 41378, 46257, 46472]"
      ]
     },
     "execution_count": 5,
     "metadata": {},
     "output_type": "execute_result"
    }
   ],
   "source": [
    "# Count of March's activities of each year to see the changes in mumber actitivies\n",
    "march_2017 = final_df[ (final_df['Opened Month'] == 3) &  (final_df['Opened Year'].astype(int) == 2017) ]\n",
    "march_2018 = final_df[ (final_df['Opened Month'] == 3) &  (final_df['Opened Year'].astype(int) == 2018) ]\n",
    "march_2019 = final_df[ (final_df['Opened Month'] == 3) &  (final_df['Opened Year'].astype(int) == 2019) ]\n",
    "march_2020 = final_df[ (final_df['Opened Month'] == 3) &  (final_df['Opened Year'].astype(int) == 2020) ]\n",
    "\n",
    "# Value of activies in March of each year\n",
    "march_counts = [march_2017['Opened Month'].count(), march_2018['Opened Month'].count(), march_2019['Opened Month'].count(), march_2020['Opened Month'].count()]\n",
    "march_counts "
   ]
  },
  {
   "cell_type": "code",
   "execution_count": 6,
   "metadata": {},
   "outputs": [
    {
     "data": {
      "image/png": "[encoded data removed]",
      "text/plain": [
       "<Figure size 576x360 with 1 Axes>"
      ]
     },
     "metadata": {
      "needs_background": "light"
     },
     "output_type": "display_data"
    }
   ],
   "source": [
    "# Graph the Plot.bar to illustrate the change of year over year of March\n",
    "plt.figure(figsize=[8, 5])\n",
    "\n",
    "x_labels = ['March 2017', 'March 2018', 'March 2019', 'March 2020']\n",
    "\n",
    "plt.bar(x_labels, march_counts, width=.3, color=('#f2e30f', '#0ff28c', '#0f93f2', '#f20f29'))\n",
    "\n",
    "plt.xticks()\n",
    "plt.title('Number of Calls in March')\n",
    "plt.xlabel('Year')\n",
    "plt.ylabel('Number of Requests')\n",
    "plt.tight_layout()\n",
    "plt.savefig(\"Number_of_call_by_month.png\")\n",
    "plt.show()"
   ]
  },
  {
   "cell_type": "code",
   "execution_count": 7,
   "metadata": {},
   "outputs": [
    {
     "data": {
      "text/plain": [
       "[173921]"
      ]
     },
     "execution_count": 7,
     "metadata": {},
     "output_type": "execute_result"
    }
   ],
   "source": [
    "\n",
    "total_march_counts = [march_2017['Opened Month'].count().astype(int) + march_2018['Opened Month'].count().astype(int)+\n",
    "                      march_2019['Opened Month'].count().astype(int)+ march_2020['Opened Month'].count().astype(int)]\n",
    "\n",
    "total_march_counts\n",
    "\n",
    "# ave_total_march_counts = ['total_march_counts'/4]\n",
    "# ave_total_march_counts"
   ]
  },
  {
   "cell_type": "code",
   "execution_count": 8,
   "metadata": {
    "scrolled": true
   },
   "outputs": [
    {
     "data": {
      "text/html": [
       "<div>\n",
       "<style scoped>\n",
       "    .dataframe tbody tr th:only-of-type {\n",
       "        vertical-align: middle;\n",
       "    }\n",
       "\n",
       "    .dataframe tbody tr th {\n",
       "        vertical-align: top;\n",
       "    }\n",
       "\n",
       "    .dataframe thead th {\n",
       "        text-align: right;\n",
       "    }\n",
       "</style>\n",
       "<table border=\"1\" class=\"dataframe\">\n",
       "  <thead>\n",
       "    <tr style=\"text-align: right;\">\n",
       "      <th></th>\n",
       "      <th>observed</th>\n",
       "      <th>expected</th>\n",
       "    </tr>\n",
       "  </thead>\n",
       "  <tbody>\n",
       "    <tr>\n",
       "      <td>March 2017</td>\n",
       "      <td>39814</td>\n",
       "      <td>43480</td>\n",
       "    </tr>\n",
       "    <tr>\n",
       "      <td>March 2018</td>\n",
       "      <td>41378</td>\n",
       "      <td>43480</td>\n",
       "    </tr>\n",
       "    <tr>\n",
       "      <td>March 2019</td>\n",
       "      <td>46257</td>\n",
       "      <td>43480</td>\n",
       "    </tr>\n",
       "    <tr>\n",
       "      <td>March 2020</td>\n",
       "      <td>46472</td>\n",
       "      <td>43480</td>\n",
       "    </tr>\n",
       "  </tbody>\n",
       "</table>\n",
       "</div>"
      ],
      "text/plain": [
       "            observed  expected\n",
       "March 2017     39814     43480\n",
       "March 2018     41378     43480\n",
       "March 2019     46257     43480\n",
       "March 2020     46472     43480"
      ]
     },
     "execution_count": 8,
     "metadata": {},
     "output_type": "execute_result"
    }
   ],
   "source": [
    "# The statistical module used to run chi square test\n",
    "import scipy.stats as stats\n",
    "\n",
    "observed = pd.Series([39814, 41378, 46257, 46472],\n",
    "                     index=(['March 2017', 'March 2018', 'March 2019', 'March 2020']))\n",
    "\n",
    "shelter_in_place = pd.DataFrame([observed]).T\n",
    "shelter_in_place[1] = 43480\n",
    "\n",
    "shelter_in_place.columns = [\"observed\", \"expected\"]\n",
    "shelter_in_place\n"
   ]
  },
  {
   "cell_type": "code",
   "execution_count": 9,
   "metadata": {
    "scrolled": false
   },
   "outputs": [
    {
     "data": {
      "text/plain": [
       "7.814727903251179"
      ]
     },
     "execution_count": 9,
     "metadata": {},
     "output_type": "execute_result"
    }
   ],
   "source": [
    "critical_value = stats.chi2.ppf(q = 0.95, df = 3)\n",
    "critical_value"
   ]
  },
  {
   "cell_type": "code",
   "execution_count": 10,
   "metadata": {},
   "outputs": [
    {
     "data": {
      "text/plain": [
       "Power_divergenceResult(statistic=793.9685602575896, pvalue=8.796409002213458e-172)"
      ]
     },
     "execution_count": 10,
     "metadata": {},
     "output_type": "execute_result"
    }
   ],
   "source": [
    "# Run the chi square test with stats.chisquare()\n",
    "stats.chisquare(shelter_in_place['observed'], shelter_in_place['expected'])"
   ]
  },
  {
   "cell_type": "markdown",
   "metadata": {},
   "source": [
    "### Conclusion\n",
    "Since the chi-square value of 793 at a confidence level of 95% exceeds the critical value of 7.814 and statistically significant evidence at a =0.05 to show that Hypothesis is false. The Hypothesis is rejected and Null Hypothesis is accepted. \n",
    "\n",
    "It is more solid evident if we can wait April 2020 (full month data) to compare with same months of privous year.\n"
   ]
  }
 ],
 "metadata": {
  "kernelspec": {
   "display_name": "Python 3",
   "language": "python",
   "name": "python3"
  },
  "language_info": {
   "codemirror_mode": {
    "name": "ipython",
    "version": 3
   },
   "file_extension": ".py",
   "mimetype": "text/x-python",
   "name": "python",
   "nbconvert_exporter": "python",
   "pygments_lexer": "ipython3",
   "version": "3.6.9"
  }
 },
 "nbformat": 4,
 "nbformat_minor": 2
}
